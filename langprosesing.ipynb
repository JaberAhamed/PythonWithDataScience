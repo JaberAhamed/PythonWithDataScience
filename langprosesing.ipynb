{
 "cells": [
  {
   "cell_type": "code",
   "execution_count": 2,
   "metadata": {},
   "outputs": [],
   "source": [
    "text = \"This is my text. we're keeping this text to keep things manageable.\""
   ]
  },
  {
   "cell_type": "code",
   "execution_count": 25,
   "metadata": {},
   "outputs": [],
   "source": [
    "\n",
    "def word_counts(text):\n",
    "    word_counter={}\n",
    "    text = text.lower()\n",
    "    skips = [\".\",\":\",\";\",\"'\",'\"']\n",
    "    for ch in skips:\n",
    "        text=text.replace(ch,\"\")\n",
    "        \n",
    "    for words in text.split(\" \"):\n",
    "        if words in word_counter:\n",
    "            word_counter[words]+=1\n",
    "        else:\n",
    "            word_counter[words]=1\n",
    "     \n",
    "    return word_counter\n",
    "\n"
   ]
  },
  {
   "cell_type": "code",
   "execution_count": 33,
   "metadata": {},
   "outputs": [
    {
     "data": {
      "text/plain": [
       "{'this': 2,\n",
       " 'is': 1,\n",
       " 'my': 1,\n",
       " 'text': 2,\n",
       " 'were': 1,\n",
       " 'keeping': 1,\n",
       " 'to': 1,\n",
       " 'keep': 1,\n",
       " 'things': 1,\n",
       " 'manageable': 1}"
      ]
     },
     "execution_count": 33,
     "metadata": {},
     "output_type": "execute_result"
    }
   ],
   "source": [
    "text = \"This is my text. we're keeping this text to keep things manageable.\"\n",
    "word_counts(text)"
   ]
  },
  {
   "cell_type": "code",
   "execution_count": 38,
   "metadata": {},
   "outputs": [],
   "source": [
    "from  collections import Counter"
   ]
  },
  {
   "cell_type": "code",
   "execution_count": 21,
   "metadata": {},
   "outputs": [],
   "source": [
    "from  collections import Counter\n",
    "def withCounter_counterWords(text):\n",
    "    text = text.lower()\n",
    "    skips = [\".\",\":\",\";\",\"'\",'\"']\n",
    "    for ch in skips:\n",
    "        text=text.replace(ch,\"\")\n",
    "        \n",
    "    word_counte = Counter(text.split(\" \"))\n",
    " \n",
    "    return word_counte\n"
   ]
  },
  {
   "cell_type": "code",
   "execution_count": 44,
   "metadata": {},
   "outputs": [
    {
     "data": {
      "text/plain": [
       "Counter({'this': 2,\n",
       "         'is': 1,\n",
       "         'my': 1,\n",
       "         'text': 2,\n",
       "         'were': 1,\n",
       "         'keeping': 1,\n",
       "         'to': 1,\n",
       "         'keep': 1,\n",
       "         'things': 1,\n",
       "         'manageable': 1})"
      ]
     },
     "execution_count": 44,
     "metadata": {},
     "output_type": "execute_result"
    }
   ],
   "source": [
    "text = \"This is my text. we're keeping this text to keep things manageable.\"\n",
    "withCounter_counterWords(text)"
   ]
  },
  {
   "cell_type": "code",
   "execution_count": 45,
   "metadata": {},
   "outputs": [
    {
     "data": {
      "text/plain": [
       "True"
      ]
     },
     "execution_count": 45,
     "metadata": {},
     "output_type": "execute_result"
    }
   ],
   "source": [
    "text = \"This is my text. we're keeping this text to keep things manageable.\"\n",
    "withCounter_counterWords(text)==word_counts(text)"
   ]
  },
  {
   "cell_type": "code",
   "execution_count": 47,
   "metadata": {},
   "outputs": [
    {
     "data": {
      "text/plain": [
       "6"
      ]
     },
     "execution_count": 47,
     "metadata": {},
     "output_type": "execute_result"
    }
   ],
   "source": [
    "len(word_counts(\"This comprehension check is to check for comprehension.\"))"
   ]
  },
  {
   "cell_type": "code",
   "execution_count": 7,
   "metadata": {},
   "outputs": [],
   "source": [
    "def book_read(title_path):\n",
    "    with open (title_path,\"r\") as curren_file:\n",
    "        text = curren_file.read()\n",
    "        text = text.replace(\"\\n\",\"\").replace(\"\\r\",\"\")\n",
    "    return text    \n",
    "    "
   ]
  },
  {
   "cell_type": "code",
   "execution_count": 8,
   "metadata": {},
   "outputs": [],
   "source": [
    "text = book_read(\"C:/Users/jahed/Languageprocesing/romeojul.txt\")"
   ]
  },
  {
   "cell_type": "code",
   "execution_count": 10,
   "metadata": {},
   "outputs": [
    {
     "data": {
      "text/plain": [
       "6320"
      ]
     },
     "execution_count": 10,
     "metadata": {},
     "output_type": "execute_result"
    }
   ],
   "source": [
    "len(text)"
   ]
  },
  {
   "cell_type": "code",
   "execution_count": 11,
   "metadata": {},
   "outputs": [],
   "source": [
    "ind =  text.find(\"The feast begins\")"
   ]
  },
  {
   "cell_type": "code",
   "execution_count": 12,
   "metadata": {},
   "outputs": [
    {
     "data": {
      "text/plain": [
       "1006"
      ]
     },
     "execution_count": 12,
     "metadata": {},
     "output_type": "execute_result"
    }
   ],
   "source": [
    "ind"
   ]
  },
  {
   "cell_type": "code",
   "execution_count": 17,
   "metadata": {},
   "outputs": [],
   "source": [
    "simple_text=text[ind : ind+50]"
   ]
  },
  {
   "cell_type": "code",
   "execution_count": 18,
   "metadata": {},
   "outputs": [
    {
     "data": {
      "text/plain": [
       "'The feast begins. A melancholy Romeo follows Benvo'"
      ]
     },
     "execution_count": 18,
     "metadata": {},
     "output_type": "execute_result"
    }
   ],
   "source": [
    "simple_text"
   ]
  },
  {
   "cell_type": "code",
   "execution_count": 19,
   "metadata": {},
   "outputs": [],
   "source": [
    "text = book_read(\"C:/Users/jahed/Languageprocesing/romeojul.txt\")"
   ]
  },
  {
   "cell_type": "code",
   "execution_count": 22,
   "metadata": {},
   "outputs": [
    {
     "data": {
      "text/plain": [
       "Counter({'meanwhile,': 1,\n",
       "         'paris,': 4,\n",
       "         'a': 22,\n",
       "         'kinsman': 3,\n",
       "         'of': 17,\n",
       "         'the': 53,\n",
       "         'prince,': 2,\n",
       "         'seeks': 1,\n",
       "         'juliet’s': 9,\n",
       "         'hand': 1,\n",
       "         'in': 12,\n",
       "         'marriage': 2,\n",
       "         'her': 21,\n",
       "         'father': 1,\n",
       "         'capulet,': 3,\n",
       "         'though': 2,\n",
       "         'happy': 1,\n",
       "         'at': 7,\n",
       "         'match,': 1,\n",
       "         'asks': 2,\n",
       "         'paris': 9,\n",
       "         'to': 54,\n",
       "         'wait': 1,\n",
       "         'two': 3,\n",
       "         'years,': 1,\n",
       "         'since': 3,\n",
       "         'juliet': 23,\n",
       "         'is': 13,\n",
       "         'not': 5,\n",
       "         'yet': 2,\n",
       "         'even': 2,\n",
       "         'fourteen': 1,\n",
       "         'capulet': 9,\n",
       "         'dispatches': 1,\n",
       "         'servant': 2,\n",
       "         'with': 13,\n",
       "         'list': 2,\n",
       "         'people': 1,\n",
       "         'invite': 1,\n",
       "         'masquerade': 1,\n",
       "         'and': 37,\n",
       "         'feast': 4,\n",
       "         'he': 17,\n",
       "         'traditionally': 1,\n",
       "         'holds': 2,\n",
       "         'invites': 1,\n",
       "         'feast,': 3,\n",
       "         'hoping': 1,\n",
       "         'that': 20,\n",
       "         'will': 9,\n",
       "         'begin': 2,\n",
       "         'win': 1,\n",
       "         'heartromeo': 1,\n",
       "         'benvolio,': 1,\n",
       "         'still': 2,\n",
       "         'discussing': 1,\n",
       "         'rosaline,': 2,\n",
       "         'encounter': 2,\n",
       "         'bearing': 1,\n",
       "         'invitations': 1,\n",
       "         'benvolio': 5,\n",
       "         'suggests': 1,\n",
       "         'they': 6,\n",
       "         'attend,': 1,\n",
       "         'allow': 1,\n",
       "         'romeo': 27,\n",
       "         'compare': 1,\n",
       "         'his': 10,\n",
       "         'beloved': 2,\n",
       "         'other': 2,\n",
       "         'beautiful': 1,\n",
       "         'women': 1,\n",
       "         'verona': 4,\n",
       "         'agrees': 3,\n",
       "         'go': 1,\n",
       "         'but': 6,\n",
       "         'only': 3,\n",
       "         'because': 1,\n",
       "         'whose': 1,\n",
       "         'name': 2,\n",
       "         'reads': 1,\n",
       "         'on': 2,\n",
       "         'list,': 1,\n",
       "         'be': 4,\n",
       "         'therein': 1,\n",
       "         'capulet’s': 3,\n",
       "         'household,': 1,\n",
       "         'young': 4,\n",
       "         'talks': 1,\n",
       "         'mother,': 1,\n",
       "         'lady': 2,\n",
       "         'nurse': 5,\n",
       "         'about': 2,\n",
       "         'possibility': 2,\n",
       "         'marrying': 1,\n",
       "         'has': 10,\n",
       "         'considered': 1,\n",
       "         'marriage,': 2,\n",
       "         'look': 1,\n",
       "         'during': 1,\n",
       "         'see': 3,\n",
       "         'if': 2,\n",
       "         'she': 13,\n",
       "         'thinks': 1,\n",
       "         'could': 1,\n",
       "         'fall': 1,\n",
       "         'love': 5,\n",
       "         'himthe': 1,\n",
       "         'begins': 1,\n",
       "         'melancholy': 1,\n",
       "         'follows': 1,\n",
       "         'their': 9,\n",
       "         'witty': 1,\n",
       "         'friend': 2,\n",
       "         'mercutio': 6,\n",
       "         'house': 2,\n",
       "         'once': 1,\n",
       "         'inside,': 1,\n",
       "         'sees': 5,\n",
       "         'from': 7,\n",
       "         'distance': 1,\n",
       "         'instantly': 1,\n",
       "         'falls': 1,\n",
       "         'forgets': 1,\n",
       "         'rosaline': 1,\n",
       "         'completely': 1,\n",
       "         'as': 2,\n",
       "         'watches': 1,\n",
       "         'juliet,': 2,\n",
       "         'entranced,': 1,\n",
       "         'tybalt,': 1,\n",
       "         'recognizes': 1,\n",
       "         'him,': 2,\n",
       "         'enraged': 2,\n",
       "         'montague': 6,\n",
       "         'would': 1,\n",
       "         'sneak': 1,\n",
       "         'into': 4,\n",
       "         'prepares': 1,\n",
       "         'attack,': 1,\n",
       "         'him': 2,\n",
       "         'back': 2,\n",
       "         'soon,': 1,\n",
       "         'speaks': 1,\n",
       "         'experience': 1,\n",
       "         'profound': 1,\n",
       "         'attraction': 1,\n",
       "         'kiss,': 1,\n",
       "         'knowing': 1,\n",
       "         'each': 2,\n",
       "         'other’s': 1,\n",
       "         'names': 1,\n",
       "         'when': 5,\n",
       "         'finds': 2,\n",
       "         'out': 2,\n",
       "         'daughter': 1,\n",
       "         'capulet—his': 1,\n",
       "         'family’s': 2,\n",
       "         'enemy—he': 1,\n",
       "         'becomes': 1,\n",
       "         'distraught': 1,\n",
       "         'learns': 3,\n",
       "         'man': 2,\n",
       "         'just': 3,\n",
       "         'kissed': 1,\n",
       "         'son': 1,\n",
       "         'montague,': 1,\n",
       "         'grows': 1,\n",
       "         'equally': 1,\n",
       "         'upsetas': 1,\n",
       "         'leave': 4,\n",
       "         'estate,': 1,\n",
       "         'leaps': 1,\n",
       "         'over': 2,\n",
       "         'orchard': 2,\n",
       "         'wall': 1,\n",
       "         'garden,': 1,\n",
       "         'unable': 1,\n",
       "         'behind': 1,\n",
       "         'hiding': 1,\n",
       "         'place,': 1,\n",
       "         'window': 2,\n",
       "         'above': 1,\n",
       "         'hears': 3,\n",
       "         'speak': 1,\n",
       "         'calls': 1,\n",
       "         'her,': 4,\n",
       "         'exchange': 1,\n",
       "         'vows': 1,\n",
       "         'loveromeo': 1,\n",
       "         'hurries': 2,\n",
       "         'confessor': 1,\n",
       "         'friar': 9,\n",
       "         'lawrence,': 1,\n",
       "         'who,': 1,\n",
       "         'shocked': 1,\n",
       "         'sudden': 1,\n",
       "         'turn': 1,\n",
       "         'romeo’s': 4,\n",
       "         'heart,': 1,\n",
       "         'marry': 4,\n",
       "         'lovers': 2,\n",
       "         'secret': 1,\n",
       "         'ending': 1,\n",
       "         'age-old': 1,\n",
       "         'feud': 2,\n",
       "         'between': 2,\n",
       "         'following': 2,\n",
       "         'day,': 3,\n",
       "         'meet': 1,\n",
       "         'lawrence’s': 2,\n",
       "         'cell': 1,\n",
       "         'are': 1,\n",
       "         'married': 4,\n",
       "         'nurse,': 1,\n",
       "         'who': 4,\n",
       "         'privy': 1,\n",
       "         'secret,': 1,\n",
       "         'procures': 1,\n",
       "         'ladder,': 1,\n",
       "         'which': 1,\n",
       "         'use': 1,\n",
       "         'climb': 1,\n",
       "         'for': 7,\n",
       "         'wedding': 4,\n",
       "         'nightthe': 1,\n",
       "         'next': 2,\n",
       "         'tybalt—juliet’s': 1,\n",
       "         'cousin—who,': 1,\n",
       "         'attended': 1,\n",
       "         'challenged': 1,\n",
       "         'duel': 3,\n",
       "         'appears': 1,\n",
       "         'now': 3,\n",
       "         'tybalt’s': 1,\n",
       "         'by': 5,\n",
       "         'begs': 1,\n",
       "         'hold': 1,\n",
       "         'off': 1,\n",
       "         'until': 1,\n",
       "         'understands': 1,\n",
       "         'why': 1,\n",
       "         'does': 2,\n",
       "         'want': 1,\n",
       "         'fight': 2,\n",
       "         'disgusted': 2,\n",
       "         'this': 1,\n",
       "         'plea': 1,\n",
       "         'peace,': 1,\n",
       "         'says': 1,\n",
       "         'tybalt': 4,\n",
       "         'himself': 4,\n",
       "         'tries': 1,\n",
       "         'stop': 1,\n",
       "         'them': 1,\n",
       "         'leaping': 1,\n",
       "         'combatants': 1,\n",
       "         'stabs': 1,\n",
       "         'under': 1,\n",
       "         'arm,': 1,\n",
       "         'dies': 2,\n",
       "         'romeo,': 3,\n",
       "         'rage,': 1,\n",
       "         'kills': 2,\n",
       "         'flees': 2,\n",
       "         'scene': 1,\n",
       "         'soon': 1,\n",
       "         'after,': 1,\n",
       "         'prince': 1,\n",
       "         'declares': 2,\n",
       "         'forever': 1,\n",
       "         'banished': 1,\n",
       "         'crime': 1,\n",
       "         'lawrence': 4,\n",
       "         'arranges': 1,\n",
       "         'spend': 1,\n",
       "         'night': 2,\n",
       "         'before': 2,\n",
       "         'mantua': 3,\n",
       "         'morningin': 1,\n",
       "         'room,': 1,\n",
       "         'awaits': 1,\n",
       "         'arrival': 1,\n",
       "         'new': 1,\n",
       "         'husband': 1,\n",
       "         'enters,': 1,\n",
       "         'and,': 1,\n",
       "         'after': 2,\n",
       "         'some': 1,\n",
       "         'confusion,': 1,\n",
       "         'tells': 1,\n",
       "         'killed': 4,\n",
       "         'distraught,': 1,\n",
       "         'suddenly': 1,\n",
       "         'herself': 1,\n",
       "         'resettles': 1,\n",
       "         'herself,': 1,\n",
       "         'realizes': 3,\n",
       "         'duty': 1,\n",
       "         'belongs': 1,\n",
       "         'romeoromeo': 1,\n",
       "         'sneaks': 1,\n",
       "         'room': 1,\n",
       "         'night,': 2,\n",
       "         'last': 1,\n",
       "         'consummate': 1,\n",
       "         'morning': 2,\n",
       "         'comes,': 1,\n",
       "         'bid': 1,\n",
       "         'farewell,': 1,\n",
       "         'unsure': 2,\n",
       "         'again': 1,\n",
       "         'father,': 1,\n",
       "         'affected': 1,\n",
       "         'recent': 1,\n",
       "         'events,': 1,\n",
       "         'intends': 1,\n",
       "         'three': 1,\n",
       "         'days': 1,\n",
       "         'how': 1,\n",
       "         'proceed—unable': 1,\n",
       "         'reveal': 1,\n",
       "         'parents': 1,\n",
       "         'unwilling': 1,\n",
       "         'wife—juliet': 1,\n",
       "         'advice': 2,\n",
       "         'counsels': 1,\n",
       "         'proceed': 1,\n",
       "         'were': 1,\n",
       "         'dead': 3,\n",
       "         'better': 1,\n",
       "         'match': 1,\n",
       "         'anyway': 1,\n",
       "         'nurse’s': 1,\n",
       "         'disloyalty,': 1,\n",
       "         'disregards': 1,\n",
       "         'concocts': 1,\n",
       "         'plan': 3,\n",
       "         'reunite': 1,\n",
       "         'must': 1,\n",
       "         'drink': 1,\n",
       "         'potion': 1,\n",
       "         'make': 1,\n",
       "         'appear': 1,\n",
       "         'laid': 1,\n",
       "         'rest': 1,\n",
       "         'crypt,': 2,\n",
       "         'secretly': 1,\n",
       "         'retrieve': 1,\n",
       "         'free': 1,\n",
       "         'live': 2,\n",
       "         'away': 1,\n",
       "         'parents’': 1,\n",
       "         'feudingjuliet': 1,\n",
       "         'returns': 1,\n",
       "         'home': 1,\n",
       "         'discover': 1,\n",
       "         'been': 1,\n",
       "         'moved': 1,\n",
       "         'ahead': 1,\n",
       "         'one': 1,\n",
       "         'tomorrow': 1,\n",
       "         'drinks': 2,\n",
       "         'potion,': 1,\n",
       "         'discovers': 1,\n",
       "         'apparently': 1,\n",
       "         'dead,': 1,\n",
       "         'capulets': 1,\n",
       "         'grieve,': 1,\n",
       "         'entombed': 1,\n",
       "         'according': 1,\n",
       "         'message': 1,\n",
       "         'explaining': 1,\n",
       "         'never': 1,\n",
       "         'reaches': 1,\n",
       "         'its': 1,\n",
       "         'bearer,': 1,\n",
       "         'john,': 1,\n",
       "         'gets': 1,\n",
       "         'confined': 1,\n",
       "         'quarantined': 1,\n",
       "         'deadromeo': 1,\n",
       "         'death': 1,\n",
       "         'decides': 1,\n",
       "         'kill': 2,\n",
       "         'rather': 1,\n",
       "         'than': 1,\n",
       "         'without': 1,\n",
       "         'buys': 1,\n",
       "         'vial': 1,\n",
       "         'poison': 2,\n",
       "         'reluctant': 1,\n",
       "         'apothecary,': 1,\n",
       "         'then': 1,\n",
       "         'speeds': 1,\n",
       "         'take': 1,\n",
       "         'own': 1,\n",
       "         'life': 1,\n",
       "         'tomb': 1,\n",
       "         'outside': 1,\n",
       "         'comes': 1,\n",
       "         'upon': 2,\n",
       "         'scattering': 1,\n",
       "         'flowers': 1,\n",
       "         'grave': 1,\n",
       "         'fight,': 1,\n",
       "         'enters': 2,\n",
       "         'tomb,': 1,\n",
       "         'inanimate': 1,\n",
       "         'body,': 1,\n",
       "         'poison,': 1,\n",
       "         'side': 1,\n",
       "         'then,': 1,\n",
       "         'same': 1,\n",
       "         'time,': 1,\n",
       "         'awakes': 1,\n",
       "         'coming': 1,\n",
       "         'watch': 2,\n",
       "         'refuses': 1,\n",
       "         'alone': 1,\n",
       "         'kisses': 1,\n",
       "         'poisoned': 1,\n",
       "         'lips,': 1,\n",
       "         'buries': 1,\n",
       "         'dagger': 1,\n",
       "         'chest,': 1,\n",
       "         'falling': 1,\n",
       "         'bodythe': 1,\n",
       "         'arrives,': 1,\n",
       "         'followed': 1,\n",
       "         'closely': 1,\n",
       "         'capulets,': 1,\n",
       "         'died': 1,\n",
       "         'grief': 1,\n",
       "         'exile': 1,\n",
       "         'seeing': 1,\n",
       "         'children’s': 1,\n",
       "         'bodies,': 1,\n",
       "         'agree': 1,\n",
       "         'end': 1,\n",
       "         'long-standing': 1,\n",
       "         'raise': 1,\n",
       "         'gold': 1,\n",
       "         'statues': 1,\n",
       "         'children': 1,\n",
       "         'side-by-side': 1,\n",
       "         'newly': 1,\n",
       "         'peaceful': 1})"
      ]
     },
     "execution_count": 22,
     "metadata": {},
     "output_type": "execute_result"
    }
   ],
   "source": [
    "withCounter_counterWords(text)"
   ]
  },
  {
   "cell_type": "code",
   "execution_count": 27,
   "metadata": {},
   "outputs": [],
   "source": [
    "def state_words(counter_words):\n",
    "    uniq_num=len(counter_words)\n",
    "    count = counter_words.values()\n",
    "    return (uniq_num,count)"
   ]
  },
  {
   "cell_type": "code",
   "execution_count": 28,
   "metadata": {},
   "outputs": [],
   "source": [
    "(uniq_words,count)=state_words(word_counts(text))"
   ]
  },
  {
   "cell_type": "code",
   "execution_count": 29,
   "metadata": {},
   "outputs": [
    {
     "data": {
      "text/plain": [
       "448"
      ]
     },
     "execution_count": 29,
     "metadata": {},
     "output_type": "execute_result"
    }
   ],
   "source": [
    "uniq_words"
   ]
  },
  {
   "cell_type": "code",
   "execution_count": 30,
   "metadata": {},
   "outputs": [
    {
     "data": {
      "text/plain": [
       "1066"
      ]
     },
     "execution_count": 30,
     "metadata": {},
     "output_type": "execute_result"
    }
   ],
   "source": [
    "sum(count)"
   ]
  },
  {
   "cell_type": "code",
   "execution_count": 31,
   "metadata": {},
   "outputs": [],
   "source": [
    "import os"
   ]
  },
  {
   "cell_type": "code",
   "execution_count": 40,
   "metadata": {},
   "outputs": [],
   "source": [
    "book_dir=\"./book\""
   ]
  },
  {
   "cell_type": "code",
   "execution_count": 41,
   "metadata": {},
   "outputs": [
    {
     "data": {
      "text/plain": [
       "['Bangla', 'English']"
      ]
     },
     "execution_count": 41,
     "metadata": {},
     "output_type": "execute_result"
    }
   ],
   "source": [
    "os.listdir(book_dir)"
   ]
  },
  {
   "cell_type": "code",
   "execution_count": null,
   "metadata": {},
   "outputs": [],
   "source": []
  }
 ],
 "metadata": {
  "kernelspec": {
   "display_name": "Python 3",
   "language": "python",
   "name": "python3"
  },
  "language_info": {
   "codemirror_mode": {
    "name": "ipython",
    "version": 3
   },
   "file_extension": ".py",
   "mimetype": "text/x-python",
   "name": "python",
   "nbconvert_exporter": "python",
   "pygments_lexer": "ipython3",
   "version": "3.7.3"
  }
 },
 "nbformat": 4,
 "nbformat_minor": 2
}
